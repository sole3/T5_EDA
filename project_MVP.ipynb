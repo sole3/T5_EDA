{
  "nbformat": 4,
  "nbformat_minor": 0,
  "metadata": {
    "colab": {
      "name": "project_MVP.ipynb",
      "provenance": [],
      "authorship_tag": "ABX9TyObO2q2HYbptDcbCCugMUXr",
      "include_colab_link": true
    },
    "kernelspec": {
      "name": "python3",
      "display_name": "Python 3"
    },
    "language_info": {
      "name": "python"
    }
  },
  "cells": [
    {
      "cell_type": "markdown",
      "metadata": {
        "id": "view-in-github",
        "colab_type": "text"
      },
      "source": [
        "<a href=\"https://colab.research.google.com/github/sole3/T5_EDA/blob/main/project_MVP.ipynb\" target=\"_parent\"><img src=\"https://colab.research.google.com/assets/colab-badge.svg\" alt=\"Open In Colab\"/></a>"
      ]
    },
    {
      "cell_type": "code",
      "metadata": {
        "id": "qlR8v1Luu5MI"
      },
      "source": [
        "import numpy as np\n",
        "import pandas as pd\n",
        "import seaborn as sns\n",
        "import matplotlib.pyplot as plt"
      ],
      "execution_count": 3,
      "outputs": []
    },
    {
      "cell_type": "code",
      "metadata": {
        "id": "jLcZxCPWv0_K"
      },
      "source": [
        "#import the dataset and read it\n",
        "df = pd.read_csv(\"dataset.csv\")"
      ],
      "execution_count": 5,
      "outputs": []
    },
    {
      "cell_type": "code",
      "metadata": {
        "colab": {
          "base_uri": "https://localhost:8080/",
          "height": 359
        },
        "id": "FqO4PxXXA5j1",
        "outputId": "8234db50-3d39-4d55-e0dd-97eaa147f581"
      },
      "source": [
        "#show the first 10 rows\n",
        "df.head(10) "
      ],
      "execution_count": 6,
      "outputs": [
        {
          "output_type": "execute_result",
          "data": {
            "text/html": [
              "<div>\n",
              "<style scoped>\n",
              "    .dataframe tbody tr th:only-of-type {\n",
              "        vertical-align: middle;\n",
              "    }\n",
              "\n",
              "    .dataframe tbody tr th {\n",
              "        vertical-align: top;\n",
              "    }\n",
              "\n",
              "    .dataframe thead th {\n",
              "        text-align: right;\n",
              "    }\n",
              "</style>\n",
              "<table border=\"1\" class=\"dataframe\">\n",
              "  <thead>\n",
              "    <tr style=\"text-align: right;\">\n",
              "      <th></th>\n",
              "      <th>Gender</th>\n",
              "      <th>Location</th>\n",
              "      <th>Age.Band</th>\n",
              "      <th>Age</th>\n",
              "      <th>Completion.Time</th>\n",
              "      <th>Part.A.Score</th>\n",
              "      <th>Part.B.Score</th>\n",
              "      <th>Part.C.Score</th>\n",
              "    </tr>\n",
              "  </thead>\n",
              "  <tbody>\n",
              "    <tr>\n",
              "      <th>0</th>\n",
              "      <td>M</td>\n",
              "      <td>B</td>\n",
              "      <td>U</td>\n",
              "      <td>11</td>\n",
              "      <td>52</td>\n",
              "      <td>21</td>\n",
              "      <td>9.0</td>\n",
              "      <td>67</td>\n",
              "    </tr>\n",
              "    <tr>\n",
              "      <th>1</th>\n",
              "      <td>F</td>\n",
              "      <td>B</td>\n",
              "      <td>Y</td>\n",
              "      <td>37</td>\n",
              "      <td>61</td>\n",
              "      <td>72</td>\n",
              "      <td>29.0</td>\n",
              "      <td>66</td>\n",
              "    </tr>\n",
              "    <tr>\n",
              "      <th>2</th>\n",
              "      <td>M</td>\n",
              "      <td>B</td>\n",
              "      <td>U</td>\n",
              "      <td>5</td>\n",
              "      <td>39</td>\n",
              "      <td>19</td>\n",
              "      <td>4.0</td>\n",
              "      <td>24</td>\n",
              "    </tr>\n",
              "    <tr>\n",
              "      <th>3</th>\n",
              "      <td>M</td>\n",
              "      <td>C</td>\n",
              "      <td>O</td>\n",
              "      <td>70</td>\n",
              "      <td>63</td>\n",
              "      <td>65</td>\n",
              "      <td>54.0</td>\n",
              "      <td>40</td>\n",
              "    </tr>\n",
              "    <tr>\n",
              "      <th>4</th>\n",
              "      <td>M</td>\n",
              "      <td>D</td>\n",
              "      <td>U</td>\n",
              "      <td>14</td>\n",
              "      <td>22</td>\n",
              "      <td>18</td>\n",
              "      <td>11.0</td>\n",
              "      <td>45</td>\n",
              "    </tr>\n",
              "    <tr>\n",
              "      <th>5</th>\n",
              "      <td>F</td>\n",
              "      <td>C</td>\n",
              "      <td>Y</td>\n",
              "      <td>29</td>\n",
              "      <td>76</td>\n",
              "      <td>75</td>\n",
              "      <td>23.0</td>\n",
              "      <td>55</td>\n",
              "    </tr>\n",
              "    <tr>\n",
              "      <th>6</th>\n",
              "      <td>M</td>\n",
              "      <td>E</td>\n",
              "      <td>Y</td>\n",
              "      <td>20</td>\n",
              "      <td>30</td>\n",
              "      <td>68</td>\n",
              "      <td>16.0</td>\n",
              "      <td>32</td>\n",
              "    </tr>\n",
              "    <tr>\n",
              "      <th>7</th>\n",
              "      <td>F</td>\n",
              "      <td>A</td>\n",
              "      <td>M</td>\n",
              "      <td>51</td>\n",
              "      <td>55</td>\n",
              "      <td>66</td>\n",
              "      <td>40.0</td>\n",
              "      <td>38</td>\n",
              "    </tr>\n",
              "    <tr>\n",
              "      <th>8</th>\n",
              "      <td>F</td>\n",
              "      <td>D</td>\n",
              "      <td>U</td>\n",
              "      <td>8</td>\n",
              "      <td>107</td>\n",
              "      <td>9</td>\n",
              "      <td>6.0</td>\n",
              "      <td>47</td>\n",
              "    </tr>\n",
              "    <tr>\n",
              "      <th>9</th>\n",
              "      <td>F</td>\n",
              "      <td>D</td>\n",
              "      <td>U</td>\n",
              "      <td>11</td>\n",
              "      <td>103</td>\n",
              "      <td>23</td>\n",
              "      <td>9.0</td>\n",
              "      <td>46</td>\n",
              "    </tr>\n",
              "  </tbody>\n",
              "</table>\n",
              "</div>"
            ],
            "text/plain": [
              "  Gender Location Age.Band  ...  Part.A.Score  Part.B.Score  Part.C.Score\n",
              "0      M        B        U  ...            21           9.0            67\n",
              "1      F        B        Y  ...            72          29.0            66\n",
              "2      M        B        U  ...            19           4.0            24\n",
              "3      M        C        O  ...            65          54.0            40\n",
              "4      M        D        U  ...            18          11.0            45\n",
              "5      F        C        Y  ...            75          23.0            55\n",
              "6      M        E        Y  ...            68          16.0            32\n",
              "7      F        A        M  ...            66          40.0            38\n",
              "8      F        D        U  ...             9           6.0            47\n",
              "9      F        D        U  ...            23           9.0            46\n",
              "\n",
              "[10 rows x 8 columns]"
            ]
          },
          "metadata": {},
          "execution_count": 6
        }
      ]
    },
    {
      "cell_type": "code",
      "metadata": {
        "colab": {
          "base_uri": "https://localhost:8080/",
          "height": 204
        },
        "id": "hxH7vXbcBYhz",
        "outputId": "3db3a3f5-6291-4d0d-edf8-686bdab27ed9"
      },
      "source": [
        "#show the last 5 rows by default\n",
        "df.tail() "
      ],
      "execution_count": 8,
      "outputs": [
        {
          "output_type": "execute_result",
          "data": {
            "text/html": [
              "<div>\n",
              "<style scoped>\n",
              "    .dataframe tbody tr th:only-of-type {\n",
              "        vertical-align: middle;\n",
              "    }\n",
              "\n",
              "    .dataframe tbody tr th {\n",
              "        vertical-align: top;\n",
              "    }\n",
              "\n",
              "    .dataframe thead th {\n",
              "        text-align: right;\n",
              "    }\n",
              "</style>\n",
              "<table border=\"1\" class=\"dataframe\">\n",
              "  <thead>\n",
              "    <tr style=\"text-align: right;\">\n",
              "      <th></th>\n",
              "      <th>Gender</th>\n",
              "      <th>Location</th>\n",
              "      <th>Age.Band</th>\n",
              "      <th>Age</th>\n",
              "      <th>Completion.Time</th>\n",
              "      <th>Part.A.Score</th>\n",
              "      <th>Part.B.Score</th>\n",
              "      <th>Part.C.Score</th>\n",
              "    </tr>\n",
              "  </thead>\n",
              "  <tbody>\n",
              "    <tr>\n",
              "      <th>9995</th>\n",
              "      <td>M</td>\n",
              "      <td>D</td>\n",
              "      <td>Y</td>\n",
              "      <td>38</td>\n",
              "      <td>101</td>\n",
              "      <td>77</td>\n",
              "      <td>30.0</td>\n",
              "      <td>37</td>\n",
              "    </tr>\n",
              "    <tr>\n",
              "      <th>9996</th>\n",
              "      <td>M</td>\n",
              "      <td>E</td>\n",
              "      <td>Y</td>\n",
              "      <td>30</td>\n",
              "      <td>41</td>\n",
              "      <td>63</td>\n",
              "      <td>23.0</td>\n",
              "      <td>34</td>\n",
              "    </tr>\n",
              "    <tr>\n",
              "      <th>9997</th>\n",
              "      <td>F</td>\n",
              "      <td>E</td>\n",
              "      <td>Y</td>\n",
              "      <td>36</td>\n",
              "      <td>65</td>\n",
              "      <td>66</td>\n",
              "      <td>28.0</td>\n",
              "      <td>31</td>\n",
              "    </tr>\n",
              "    <tr>\n",
              "      <th>9998</th>\n",
              "      <td>F</td>\n",
              "      <td>A</td>\n",
              "      <td>M</td>\n",
              "      <td>50</td>\n",
              "      <td>62</td>\n",
              "      <td>62</td>\n",
              "      <td>39.0</td>\n",
              "      <td>37</td>\n",
              "    </tr>\n",
              "    <tr>\n",
              "      <th>9999</th>\n",
              "      <td>F</td>\n",
              "      <td>C</td>\n",
              "      <td>O</td>\n",
              "      <td>97</td>\n",
              "      <td>41</td>\n",
              "      <td>71</td>\n",
              "      <td>75.0</td>\n",
              "      <td>48</td>\n",
              "    </tr>\n",
              "  </tbody>\n",
              "</table>\n",
              "</div>"
            ],
            "text/plain": [
              "     Gender Location Age.Band  ...  Part.A.Score  Part.B.Score  Part.C.Score\n",
              "9995      M        D        Y  ...            77          30.0            37\n",
              "9996      M        E        Y  ...            63          23.0            34\n",
              "9997      F        E        Y  ...            66          28.0            31\n",
              "9998      F        A        M  ...            62          39.0            37\n",
              "9999      F        C        O  ...            71          75.0            48\n",
              "\n",
              "[5 rows x 8 columns]"
            ]
          },
          "metadata": {},
          "execution_count": 8
        }
      ]
    },
    {
      "cell_type": "code",
      "metadata": {
        "colab": {
          "base_uri": "https://localhost:8080/"
        },
        "id": "YGHiuDHQBi1L",
        "outputId": "3990c5fe-6918-4082-cea2-fd2397855e3f"
      },
      "source": [
        "# the numbers of rows & columns in the dataframe\n",
        "df.shape "
      ],
      "execution_count": 9,
      "outputs": [
        {
          "output_type": "execute_result",
          "data": {
            "text/plain": [
              "(10000, 8)"
            ]
          },
          "metadata": {},
          "execution_count": 9
        }
      ]
    },
    {
      "cell_type": "code",
      "metadata": {
        "colab": {
          "base_uri": "https://localhost:8080/"
        },
        "id": "LIXULvJyCqib",
        "outputId": "4ef6fcb7-f4e0-46aa-de7a-79ce997e5dd9"
      },
      "source": [
        "#shows the name of columns\n",
        "df.columns "
      ],
      "execution_count": 10,
      "outputs": [
        {
          "output_type": "execute_result",
          "data": {
            "text/plain": [
              "Index(['Gender', 'Location', 'Age.Band', 'Age', 'Completion.Time',\n",
              "       'Part.A.Score', 'Part.B.Score', 'Part.C.Score'],\n",
              "      dtype='object')"
            ]
          },
          "metadata": {},
          "execution_count": 10
        }
      ]
    },
    {
      "cell_type": "code",
      "metadata": {
        "colab": {
          "base_uri": "https://localhost:8080/"
        },
        "id": "e8mFG_7eCqXc",
        "outputId": "9020ff30-7bee-44d0-c5a3-e630732ac4e4"
      },
      "source": [
        "#print a concise summary of a DataFrame\n",
        "df.info() "
      ],
      "execution_count": 37,
      "outputs": [
        {
          "output_type": "stream",
          "name": "stdout",
          "text": [
            "<class 'pandas.core.frame.DataFrame'>\n",
            "RangeIndex: 10000 entries, 0 to 9999\n",
            "Data columns (total 8 columns):\n",
            " #   Column           Non-Null Count  Dtype  \n",
            "---  ------           --------------  -----  \n",
            " 0   Gender           10000 non-null  object \n",
            " 1   Location         10000 non-null  object \n",
            " 2   Age.Band         10000 non-null  object \n",
            " 3   Age              10000 non-null  int64  \n",
            " 4   Completion.Time  10000 non-null  int64  \n",
            " 5   Part.A.Score     10000 non-null  int64  \n",
            " 6   Part.B.Score     10000 non-null  float64\n",
            " 7   Part.C.Score     10000 non-null  int64  \n",
            "dtypes: float64(1), int64(4), object(3)\n",
            "memory usage: 625.1+ KB\n"
          ]
        }
      ]
    },
    {
      "cell_type": "code",
      "metadata": {
        "colab": {
          "base_uri": "https://localhost:8080/"
        },
        "id": "2uoSjMJyEeyo",
        "outputId": "116a965a-0a5f-4a37-db80-1ae8896518ee"
      },
      "source": [
        "#change the column names and replace any special characters to underscore to call it without errors\n",
        "\n",
        "df.columns = df.columns.str.replace('[#,@,.]', '_')\n",
        "df.columns"
      ],
      "execution_count": 49,
      "outputs": [
        {
          "output_type": "execute_result",
          "data": {
            "text/plain": [
              "Index(['Gender', 'Location', 'Age_Band', 'Age', 'Completion_Time',\n",
              "       'Part_A_Score', 'Part_B_Score', 'Part_C_Score'],\n",
              "      dtype='object')"
            ]
          },
          "metadata": {},
          "execution_count": 49
        }
      ]
    },
    {
      "cell_type": "code",
      "metadata": {
        "colab": {
          "base_uri": "https://localhost:8080/"
        },
        "id": "Hb_YGLHXCqNR",
        "outputId": "3786ae3f-a781-454d-b387-71d291bc4de7"
      },
      "source": [
        "#find sum of all null values in columns \n",
        "df.isna().sum() "
      ],
      "execution_count": 51,
      "outputs": [
        {
          "output_type": "execute_result",
          "data": {
            "text/plain": [
              "Gender             0\n",
              "Location           0\n",
              "Age_Band           0\n",
              "Age                0\n",
              "Completion_Time    0\n",
              "Part_A_Score       0\n",
              "Part_B_Score       0\n",
              "Part_C_Score       0\n",
              "dtype: int64"
            ]
          },
          "metadata": {},
          "execution_count": 51
        }
      ]
    },
    {
      "cell_type": "code",
      "metadata": {
        "colab": {
          "base_uri": "https://localhost:8080/"
        },
        "id": "EK3EeaVaLKjG",
        "outputId": "1b11d76a-a47e-49f2-d9bb-64a7f12b8dce"
      },
      "source": [
        "df.info()"
      ],
      "execution_count": 63,
      "outputs": [
        {
          "output_type": "stream",
          "name": "stdout",
          "text": [
            "<class 'pandas.core.frame.DataFrame'>\n",
            "RangeIndex: 10000 entries, 0 to 9999\n",
            "Data columns (total 8 columns):\n",
            " #   Column           Non-Null Count  Dtype  \n",
            "---  ------           --------------  -----  \n",
            " 0   Gender           10000 non-null  object \n",
            " 1   Location         10000 non-null  object \n",
            " 2   Age_Band         10000 non-null  object \n",
            " 3   Age              10000 non-null  int64  \n",
            " 4   Completion_Time  10000 non-null  int64  \n",
            " 5   Part_A_Score     10000 non-null  int64  \n",
            " 6   Part_B_Score     10000 non-null  float64\n",
            " 7   Part_C_Score     10000 non-null  int64  \n",
            "dtypes: float64(1), int64(4), object(3)\n",
            "memory usage: 625.1+ KB\n"
          ]
        }
      ]
    },
    {
      "cell_type": "code",
      "metadata": {
        "colab": {
          "base_uri": "https://localhost:8080/",
          "height": 297
        },
        "id": "e6GkC3AfMCc7",
        "outputId": "6a3c81bc-30f5-4a0a-c542-5355dff3f6f8"
      },
      "source": [
        "#use boxplot to find anny outliers at Part_A_Score column\n",
        "sns.boxplot(x=df[\"Part_A_Score\"])"
      ],
      "execution_count": 68,
      "outputs": [
        {
          "output_type": "execute_result",
          "data": {
            "text/plain": [
              "<matplotlib.axes._subplots.AxesSubplot at 0x7f71ec7f0e10>"
            ]
          },
          "metadata": {},
          "execution_count": 68
        },
        {
          "output_type": "display_data",
          "data": {
            "image/png": "[encoded data removed]",
            "text/plain": [
              "<Figure size 432x288 with 1 Axes>"
            ]
          },
          "metadata": {
            "needs_background": "light"
          }
        }
      ]
    },
    {
      "cell_type": "code",
      "metadata": {
        "colab": {
          "base_uri": "https://localhost:8080/",
          "height": 297
        },
        "id": "wVy9lywvMUJY",
        "outputId": "376bb6b1-3012-45a4-a747-b4b24725fc61"
      },
      "source": [
        "#use boxplot to find anny outliers at Part_B_Score column\n",
        "sns.boxplot(x=df[\"Part_B_Score\"])"
      ],
      "execution_count": 69,
      "outputs": [
        {
          "output_type": "execute_result",
          "data": {
            "text/plain": [
              "<matplotlib.axes._subplots.AxesSubplot at 0x7f71eafc60d0>"
            ]
          },
          "metadata": {},
          "execution_count": 69
        },
        {
          "output_type": "display_data",
          "data": {
            "image/png": "[encoded data removed]",
            "text/plain": [
              "<Figure size 432x288 with 1 Axes>"
            ]
          },
          "metadata": {
            "needs_background": "light"
          }
        }
      ]
    },
    {
      "cell_type": "code",
      "metadata": {
        "colab": {
          "base_uri": "https://localhost:8080/",
          "height": 296
        },
        "id": "UFEyr_zWLBo8",
        "outputId": "07d6192b-6ed1-497b-84ee-a037ca41f15b"
      },
      "source": [
        "#use boxplot to find anny outliers at Age column\n",
        "sns.boxplot(x=df[\"Age\"])"
      ],
      "execution_count": 65,
      "outputs": [
        {
          "output_type": "execute_result",
          "data": {
            "text/plain": [
              "<matplotlib.axes._subplots.AxesSubplot at 0x7f71ecc08b90>"
            ]
          },
          "metadata": {},
          "execution_count": 65
        },
        {
          "output_type": "display_data",
          "data": {
            "image/png": "[encoded data removed]",
            "text/plain": [
              "<Figure size 432x288 with 1 Axes>"
            ]
          },
          "metadata": {
            "needs_background": "light"
          }
        }
      ]
    },
    {
      "cell_type": "code",
      "metadata": {
        "colab": {
          "base_uri": "https://localhost:8080/"
        },
        "id": "Kx14-uubv4mj",
        "outputId": "59dd6481-4710-44f7-cc9d-67b4159c1fca"
      },
      "source": [
        "#get summary Statistics of Age column\n",
        "df.Age.describe()"
      ],
      "execution_count": 5,
      "outputs": [
        {
          "output_type": "execute_result",
          "data": {
            "text/plain": [
              "count    10000.000000\n",
              "mean        46.152000\n",
              "std         35.910598\n",
              "min          5.000000\n",
              "25%         16.000000\n",
              "50%         41.000000\n",
              "75%         67.000000\n",
              "max        210.000000\n",
              "Name: Age, dtype: float64"
            ]
          },
          "metadata": {},
          "execution_count": 5
        }
      ]
    },
    {
      "cell_type": "code",
      "metadata": {
        "colab": {
          "base_uri": "https://localhost:8080/"
        },
        "id": "UYoeIp-yyOjA",
        "outputId": "4284c26c-a8ef-48a5-a340-4ef97f933649"
      },
      "source": [
        "#this code is used to get the rows which has an age above 100\n",
        "np.where(df.Age > 100)"
      ],
      "execution_count": 66,
      "outputs": [
        {
          "output_type": "execute_result",
          "data": {
            "text/plain": [
              "(array([ 102,  112,  133,  196,  205,  246,  320,  347,  405,  429,  442,\n",
              "         475,  640,  745,  764,  810,  918,  921, 1133, 1180, 1249, 1333,\n",
              "        1345, 1411, 1424, 1467, 1515, 1525, 1568, 1574, 1582, 1827, 1846,\n",
              "        1867, 1869, 1950, 2043, 2047, 2203, 2221, 2297, 2315, 2344, 2427,\n",
              "        2499, 2543, 2616, 2652, 2709, 2742, 2784, 3075, 3084, 3104, 3162,\n",
              "        3234, 3237, 3275, 3282, 3386, 3415, 3436, 3453, 3515, 3521, 3590,\n",
              "        3794, 3796, 3874, 3877, 3885, 4003, 4078, 4099, 4134, 4146, 4216,\n",
              "        4330, 4376, 4409, 4546, 4561, 4675, 4686, 4753, 4785, 4791, 4841,\n",
              "        4930, 4939, 4949, 5025, 5082, 5198, 5309, 5349, 5393, 5400, 5416,\n",
              "        5438, 5439, 5447, 5620, 5644, 5670, 5718, 5737, 5742, 5878, 5937,\n",
              "        5948, 6091, 6125, 6163, 6227, 6247, 6280, 6315, 6347, 6369, 6380,\n",
              "        6386, 6396, 6436, 6549, 6648, 6680, 6808, 6829, 6839, 6844, 6873,\n",
              "        7048, 7107, 7128, 7151, 7167, 7303, 7322, 7346, 7387, 7406, 7445,\n",
              "        7458, 7488, 7534, 7560, 7571, 7592, 7636, 7674, 7692, 7816, 7841,\n",
              "        7893, 7915, 7929, 7950, 7994, 8131, 8201, 8260, 8443, 8444, 8455,\n",
              "        8469, 8578, 8592, 8737, 8757, 8767, 8785, 8837, 8908, 8992, 9014,\n",
              "        9027, 9102, 9112, 9134, 9218, 9255, 9268, 9277, 9348, 9364, 9409,\n",
              "        9470, 9694, 9734, 9736, 9748, 9764, 9777, 9807, 9843, 9910, 9923,\n",
              "        9957, 9987]),)"
            ]
          },
          "metadata": {},
          "execution_count": 66
        }
      ]
    },
    {
      "cell_type": "code",
      "metadata": {
        "colab": {
          "base_uri": "https://localhost:8080/"
        },
        "id": "-ij47ceU1m0n",
        "outputId": "3186cab3-b579-4b68-b71f-6f87621c01d4"
      },
      "source": [
        "df['Age'].replace('\\d+', '')\n"
      ],
      "execution_count": 59,
      "outputs": [
        {
          "output_type": "execute_result",
          "data": {
            "text/plain": [
              "0       11\n",
              "1       37\n",
              "2        5\n",
              "3       70\n",
              "4       14\n",
              "        ..\n",
              "9995    38\n",
              "9996    30\n",
              "9997    36\n",
              "9998    50\n",
              "9999    97\n",
              "Name: Age, Length: 10000, dtype: int64"
            ]
          },
          "metadata": {},
          "execution_count": 59
        }
      ]
    }
  ]
}